{
 "cells": [
  {
   "cell_type": "code",
   "execution_count": 18,
   "id": "3b406d4f",
   "metadata": {},
   "outputs": [],
   "source": [
    "import numpy as np\n",
    "from sklearn.model_selection import train_test_split\n",
    "import tensorflow as tf\n",
    "from tensorflow.keras.optimizers import Adam\n",
    "from tensorflow.keras.models import Sequential\n",
    "from tensorflow.keras.layers import Conv2D, MaxPooling2D, Flatten, Dense\n",
    "import matplotlib.pyplot as plt"
   ]
  },
  {
   "cell_type": "code",
   "execution_count": 19,
   "id": "916ec920",
   "metadata": {},
   "outputs": [],
   "source": [
    "# Read the matrices from the text file\n",
    "with open('matrices_training_data.txt', 'r') as file:\n",
    "    matrix_lines = file.readlines()\n",
    "\n",
    "matrices = []\n",
    "for i in range(0, len(matrix_lines), 12):\n",
    "    matrix = np.array([list(map(int, line.strip().split())) for line in matrix_lines[i:i+12]])\n",
    "    matrices.append(matrix)\n",
    "\n",
    "# Read the energies from the text file\n",
    "with open('energies_training_data.txt', 'r') as file:\n",
    "    energy_lines = file.readlines()\n",
    "\n",
    "energies = np.array([int(line.strip()) for line in energy_lines])"
   ]
  },
  {
   "cell_type": "code",
   "execution_count": 20,
   "id": "7e1e9461",
   "metadata": {},
   "outputs": [],
   "source": [
    "# Split the data into training and validation sets\n",
    "train_matrices, val_matrices, train_energies, val_energies = train_test_split(\n",
    "    matrices, energies, test_size=0.1, random_state=42)\n"
   ]
  },
  {
   "cell_type": "code",
   "execution_count": 21,
   "id": "61c00065",
   "metadata": {},
   "outputs": [],
   "source": [
    "# Reshape the matrices for the CNN model\n",
    "train_matrices = np.array(train_matrices).reshape(-1, 12, 24, 1)\n",
    "val_matrices = np.array(val_matrices).reshape(-1, 12, 24, 1)\n"
   ]
  },
  {
   "cell_type": "code",
   "execution_count": 22,
   "id": "7957a1b5",
   "metadata": {},
   "outputs": [],
   "source": [
    "# Define the model\n",
    "model = Sequential()\n",
    "model.add(Conv2D(32, (3, 3), activation='relu', input_shape=(12, 24, 1)))\n",
    "model.add(MaxPooling2D((2, 2)))\n",
    "model.add(Conv2D(64, (2, 2), activation='relu'))\n",
    "model.add(Conv2D(64, (2, 2), activation='relu'))\n",
    "model.add(MaxPooling2D((1, 2)))  # Adjust the pooling size to (1, 2)\n",
    "model.add(Flatten())\n",
    "model.add(Dense(64, activation='relu'))\n",
    "model.add(Dense(1))"
   ]
  },
  {
   "cell_type": "code",
   "execution_count": 31,
   "id": "ce28a949",
   "metadata": {},
   "outputs": [],
   "source": [
    "# Compile the model\n",
    "learning_rate = 0.010  # You can change this value as needed\n",
    "optimizer = Adam(learning_rate=learning_rate)\n",
    "\n",
    "# Compile the model with the specified optimizer\n",
    "model.compile(optimizer=optimizer, loss='mae')"
   ]
  },
  {
   "cell_type": "code",
   "execution_count": 32,
   "id": "9b6a06a4",
   "metadata": {},
   "outputs": [
    {
     "name": "stdout",
     "output_type": "stream",
     "text": [
      "Epoch 1/10\n",
      " 3599/28125 [==>...........................] - ETA: 10:23 - loss: 13.7326"
     ]
    }
   ],
   "source": [
    "# Train the model\n",
    "epochs = 10\n",
    "batch_size = 32\n",
    "model.fit(train_matrices, train_energies, batch_size=batch_size, epochs=epochs, validation_data=(val_matrices, val_energies))"
   ]
  },
  {
   "cell_type": "code",
   "execution_count": 29,
   "id": "4b8f1861",
   "metadata": {},
   "outputs": [
    {
     "name": "stdout",
     "output_type": "stream",
     "text": [
      "   1/3125 [..............................] - ETA: 1:33 - loss: 12.1786"
     ]
    },
    {
     "name": "stdout",
     "output_type": "stream",
     "text": [
      "3125/3125 [==============================] - 13s 4ms/step - loss: 12.7514\n",
      "Validation Loss: 12.751436233520508\n"
     ]
    }
   ],
   "source": [
    "# Evaluate the model\n",
    "val_loss = model.evaluate(val_matrices, val_energies)\n",
    "print(\"Validation Loss:\", val_loss)"
   ]
  },
  {
   "cell_type": "code",
   "execution_count": 30,
   "id": "cc983077",
   "metadata": {},
   "outputs": [
    {
     "name": "stdout",
     "output_type": "stream",
     "text": [
      "3125/3125 [==============================] - 13s 4ms/step\n",
      "Validation Accuracy: 0.0\n"
     ]
    }
   ],
   "source": [
    "# Make predictions on validation data\n",
    "val_predictions = model.predict(val_matrices)\n",
    "val_predictions = np.squeeze(val_predictions)  # Remove unnecessary dimensions\n",
    "\n",
    "# Calculate accuracy\n",
    "threshold = 0  # Threshold for considering a prediction as positive or negative\n",
    "val_predictions[val_predictions > threshold] = 1\n",
    "val_predictions[val_predictions <= threshold] = -1\n",
    "\n",
    "accuracy = np.mean(val_predictions == val_energies)\n",
    "print(\"Validation Accuracy:\", accuracy)"
   ]
  },
  {
   "attachments": {},
   "cell_type": "markdown",
   "id": "375916f7",
   "metadata": {},
   "source": [
    "TESTING ALGORITHM"
   ]
  },
  {
   "cell_type": "code",
   "execution_count": 13,
   "id": "64515f86",
   "metadata": {},
   "outputs": [],
   "source": [
    "init_random = np.random.random((12,24))\n",
    "lattice_p = np.zeros((12, 24))\n",
    "lattice_p[init_random>=0.5] = 1\n",
    "lattice_p[init_random<0.5] = -1\n",
    "lattice_p1 = lattice_p"
   ]
  },
  {
   "cell_type": "code",
   "execution_count": 14,
   "id": "a8765c23",
   "metadata": {},
   "outputs": [],
   "source": [
    "# Reshape and normalize the testing matrices\n",
    "lattice_p1 = lattice_p1.reshape(-1, 12, 24, 1)\n",
    "lattice_p1 = lattice_p1 / 2.0 - 0.5\n"
   ]
  },
  {
   "cell_type": "code",
   "execution_count": 15,
   "id": "9a620ae0",
   "metadata": {},
   "outputs": [
    {
     "name": "stdout",
     "output_type": "stream",
     "text": [
      "1/1 [==============================] - 0s 57ms/step\n",
      "Matrix 1 Energy: [-306.9257]\n"
     ]
    }
   ],
   "source": [
    "# Make predictions on the testing data\n",
    "predictions = model.predict(lattice_p1)\n",
    "\n",
    "# Print the predictions\n",
    "for i, prediction in enumerate(predictions):\n",
    "    print(\"Matrix\", i+1, \"Energy:\", prediction)"
   ]
  },
  {
   "cell_type": "code",
   "execution_count": 16,
   "id": "3452e061",
   "metadata": {},
   "outputs": [],
   "source": [
    "def get_energy(lattice):\n",
    "    # applies the nearest neighbours summation\n",
    "    kern = generate_binary_structure(2, 1) \n",
    "    kern[1][1] = False\n",
    "    arr = -lattice * convolve(lattice, kern, mode='constant', cval=0)\n",
    "    return arr.sum()    "
   ]
  },
  {
   "cell_type": "code",
   "execution_count": 17,
   "id": "5ca53a0b",
   "metadata": {},
   "outputs": [
    {
     "ename": "NameError",
     "evalue": "name 'generate_binary_structure' is not defined",
     "output_type": "error",
     "traceback": [
      "\u001b[1;31m---------------------------------------------------------------------------\u001b[0m",
      "\u001b[1;31mNameError\u001b[0m                                 Traceback (most recent call last)",
      "Cell \u001b[1;32mIn[17], line 1\u001b[0m\n\u001b[1;32m----> 1\u001b[0m get_energy(lattice_p)\n",
      "Cell \u001b[1;32mIn[16], line 3\u001b[0m, in \u001b[0;36mget_energy\u001b[1;34m(lattice)\u001b[0m\n\u001b[0;32m      1\u001b[0m \u001b[39mdef\u001b[39;00m \u001b[39mget_energy\u001b[39m(lattice):\n\u001b[0;32m      2\u001b[0m     \u001b[39m# applies the nearest neighbours summation\u001b[39;00m\n\u001b[1;32m----> 3\u001b[0m     kern \u001b[39m=\u001b[39m generate_binary_structure(\u001b[39m2\u001b[39m, \u001b[39m1\u001b[39m) \n\u001b[0;32m      4\u001b[0m     kern[\u001b[39m1\u001b[39m][\u001b[39m1\u001b[39m] \u001b[39m=\u001b[39m \u001b[39mFalse\u001b[39;00m\n\u001b[0;32m      5\u001b[0m     arr \u001b[39m=\u001b[39m \u001b[39m-\u001b[39mlattice \u001b[39m*\u001b[39m convolve(lattice, kern, mode\u001b[39m=\u001b[39m\u001b[39m'\u001b[39m\u001b[39mconstant\u001b[39m\u001b[39m'\u001b[39m, cval\u001b[39m=\u001b[39m\u001b[39m0\u001b[39m)\n",
      "\u001b[1;31mNameError\u001b[0m: name 'generate_binary_structure' is not defined"
     ]
    }
   ],
   "source": [
    "get_energy(lattice_p)"
   ]
  }
 ],
 "metadata": {
  "kernelspec": {
   "display_name": "Python 3 (ipykernel)",
   "language": "python",
   "name": "python3"
  },
  "language_info": {
   "codemirror_mode": {
    "name": "ipython",
    "version": 3
   },
   "file_extension": ".py",
   "mimetype": "text/x-python",
   "name": "python",
   "nbconvert_exporter": "python",
   "pygments_lexer": "ipython3",
   "version": "3.10.9"
  },
  "vscode": {
   "interpreter": {
    "hash": "3bd0123fd027483c47db031b67787295a94cf76ebd0927d657dc065872d7eb97"
   }
  }
 },
 "nbformat": 4,
 "nbformat_minor": 5
}
