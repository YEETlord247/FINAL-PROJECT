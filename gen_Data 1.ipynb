{
 "cells": [
  {
   "cell_type": "code",
   "execution_count": 2,
   "id": "e7f05907",
   "metadata": {},
   "outputs": [],
   "source": [
    "import numpy as np\n",
    "import matplotlib.pyplot as plt\n",
    "from scipy.ndimage import convolve, generate_binary_structure\n",
    "import scienceplots"
   ]
  },
  {
   "cell_type": "code",
   "execution_count": 3,
   "id": "88eec04b",
   "metadata": {},
   "outputs": [],
   "source": [
    "def get_energy(lattice):\n",
    "    # applies the nearest neighbours summation\n",
    "    kern = generate_binary_structure(2, 1) \n",
    "    kern[1][1] = False\n",
    "    arr = -lattice * convolve(lattice, kern, mode='constant', cval=0)\n",
    "    return arr.sum()"
   ]
  },
  {
   "cell_type": "code",
   "execution_count": 4,
   "id": "8d840cf7",
   "metadata": {},
   "outputs": [],
   "source": [
    "def gen_Data(num_Iterations, x, y, matrices_File_Name, energies_File_Name):\n",
    "    for r in range(num_Iterations):\n",
    "        init_random = np.random.random((x,y))\n",
    "        lattice_p = np.zeros((x, y))\n",
    "        lattice_p[init_random>=0.5] = 1\n",
    "        lattice_p[init_random<0.5] = -1\n",
    "\n",
    "        f = open(matrices_File_Name, \"a\")\n",
    "        g = open(energies_File_Name, \"a\")\n",
    "        np.savetxt(f, lattice_p, fmt = '%i')\n",
    "        g.write(str(int(get_energy(lattice_p))) + \"\\n\")\n",
    "        f.close()\n",
    "        g.close()"
   ]
  },
  {
   "cell_type": "code",
   "execution_count": 6,
   "id": "f3e1eef9",
   "metadata": {},
   "outputs": [],
   "source": [
    "def gen_Training_Data(num_Iterations, x, y, matrices_File_Name):\n",
    "    for r in range(num_Iterations):\n",
    "        init_random = np.random.random((x,y))\n",
    "        lattice_p = np.zeros((x, y))\n",
    "        lattice_p[init_random>=0.5] = 1\n",
    "        lattice_p[init_random<0.5] = -1\n",
    "\n",
    "        f = open(matrices_File_Name, \"a\")\n",
    "        np.savetxt(f, lattice_p, fmt = '%i')\n",
    "        f.close()"
   ]
  },
  {
   "cell_type": "code",
   "execution_count": 6,
   "id": "c5e7aebd",
   "metadata": {},
   "outputs": [],
   "source": [
    "gen_Data(1000000, 12, 24, \"matrices_training_data.txt\", \"energies_training_data.txt\")"
   ]
  },
  {
   "cell_type": "code",
   "execution_count": null,
   "id": "b99a1b7b",
   "metadata": {},
   "outputs": [],
   "source": [
    "gen_Training_Data(10, 12, 24, \"testing_data.txt\")"
   ]
  }
 ],
 "metadata": {
  "kernelspec": {
   "display_name": "Python 3 (ipykernel)",
   "language": "python",
   "name": "python3"
  },
  "language_info": {
   "codemirror_mode": {
    "name": "ipython",
    "version": 3
   },
   "file_extension": ".py",
   "mimetype": "text/x-python",
   "name": "python",
   "nbconvert_exporter": "python",
   "pygments_lexer": "ipython3",
   "version": "3.10.9"
  },
  "vscode": {
   "interpreter": {
    "hash": "3bd0123fd027483c47db031b67787295a94cf76ebd0927d657dc065872d7eb97"
   }
  }
 },
 "nbformat": 4,
 "nbformat_minor": 5
}
